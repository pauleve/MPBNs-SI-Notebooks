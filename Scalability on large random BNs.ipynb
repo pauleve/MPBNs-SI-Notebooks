{
 "cells": [
  {
   "cell_type": "markdown",
   "metadata": {},
   "source": [
    "# Scalability of MPBNs on random instances\n",
    "\n",
    "In this notebook, we apply the [`mpbn`](https://github.com/pauleve/mpbn) Python implementation of Most Permissive Boolean Networks (MPBNs) on very large scale Boolean networks (BNs) instances.\n",
    "\n",
    "The instances have been generated from scale-free random network structure, on which has been applied the inhibitor-dominant rule to devise the logical functions.\n",
    "The generated networks range from 1,000 to 100,000 nodes, with in-degrees ranging up to 1400. See https://doi.org/10.5281/zenodo.3714876 for more information.\n",
    "\n",
    "The following computations are measured:\n",
    "* computation of 1 attractor;\n",
    "* enumeration of (at most) 1000 attractors;\n",
    "* enumeration of (at most) 1000 attractors *reachable* from random initial configurations.\n",
    "\n",
    "The computation times exclude the time for parsing the input text file."
   ]
  },
  {
   "cell_type": "code",
   "execution_count": 1,
   "metadata": {},
   "outputs": [
    {
     "name": "stdout",
     "output_type": "stream",
     "text": [
      "Intel(R) Xeon(R) E-2124 CPU @ 3.30GHz\r\n"
     ]
    }
   ],
   "source": [
    "!uname -p"
   ]
  },
  {
   "cell_type": "code",
   "execution_count": 2,
   "metadata": {},
   "outputs": [],
   "source": [
    "import time\n",
    "\n",
    "import numpy.random\n",
    "import matplotlib.pyplot as plt\n",
    "\n",
    "import mpbn"
   ]
  },
  {
   "cell_type": "code",
   "execution_count": 3,
   "metadata": {},
   "outputs": [],
   "source": [
    "def attractors(mbn,limit):\n",
    "    return len(list(mbn.attractors(limit=limit)))\n",
    "def reachable_attractors(mbn, init):\n",
    "    return len(list(mbn.attractors(reachable_from=init, limit=1000)))\n",
    "\n",
    "def time_call(func, *args):\n",
    "    t1 = time.perf_counter()\n",
    "    func(*args)\n",
    "    t2 = time.perf_counter()\n",
    "    return t2-t1\n",
    "\n",
    "def computations(mbn, d):\n",
    "    n = len(mbn)\n",
    "    d[\"a1\"].append((n,time_call(attractors, mbn, 1)))\n",
    "    d[\"a1000\"].append((n,time_call(attractors, mbn, 1000)))\n",
    "    # compute reachable attractors from 3 random initial configurations\n",
    "    for _ in range(3):\n",
    "        init = dict(zip(mbn, numpy.random.choice([0,1],len(mbn))))\n",
    "        d[\"reach_a\"].append((n,time_call(reachable_attractors, mbn, init)))"
   ]
  },
  {
   "cell_type": "code",
   "execution_count": 4,
   "metadata": {},
   "outputs": [],
   "source": [
    "networks = [\n",
    " 'random-1000-1.bnet',\n",
    " 'random-1000-2.bnet',\n",
    " 'random-1000-3.bnet',\n",
    " 'random-1000-4.bnet',\n",
    " 'random-2000-1.bnet',\n",
    " 'random-2000-2.bnet',\n",
    " 'random-2000-3.bnet',\n",
    " 'random-2000-4.bnet',\n",
    " 'random-5000-1.bnet',\n",
    " 'random-5000-2.bnet',\n",
    " 'random-5000-3.bnet',\n",
    " 'random-5000-4.bnet',\n",
    " 'random-10000-1.bnet',\n",
    " 'random-10000-2.bnet',\n",
    " 'random-10000-3.bnet',\n",
    " 'random-10000-4.bnet',\n",
    " 'random-20000-1.bnet',\n",
    " 'random-20000-2.bnet',\n",
    " 'random-20000-3.bnet',\n",
    " 'random-20000-4.bnet',\n",
    " 'random-50000-1.bnet',\n",
    " 'random-50000-2.bnet',\n",
    " 'random-50000-3.bnet',\n",
    " 'random-50000-4.bnet',\n",
    " 'random-100000-1.bnet',\n",
    " 'random-100000-2.bnet',\n",
    " 'random-100000-3.bnet',\n",
    " 'random-100000-4.bnet']"
   ]
  },
  {
   "cell_type": "code",
   "execution_count": 5,
   "metadata": {},
   "outputs": [
    {
     "data": {
      "text/markdown": [
       "Downloading https://zenodo.org/record/3714876/files/random-1000-1.bnet?download=1"
      ],
      "text/plain": [
       "<IPython.core.display.Markdown object>"
      ]
     },
     "metadata": {},
     "output_type": "display_data"
    },
    {
     "data": {
      "text/markdown": [
       "Downloading https://zenodo.org/record/3714876/files/random-1000-2.bnet?download=1"
      ],
      "text/plain": [
       "<IPython.core.display.Markdown object>"
      ]
     },
     "metadata": {},
     "output_type": "display_data"
    },
    {
     "data": {
      "text/markdown": [
       "Downloading https://zenodo.org/record/3714876/files/random-1000-3.bnet?download=1"
      ],
      "text/plain": [
       "<IPython.core.display.Markdown object>"
      ]
     },
     "metadata": {},
     "output_type": "display_data"
    },
    {
     "data": {
      "text/markdown": [
       "Downloading https://zenodo.org/record/3714876/files/random-1000-4.bnet?download=1"
      ],
      "text/plain": [
       "<IPython.core.display.Markdown object>"
      ]
     },
     "metadata": {},
     "output_type": "display_data"
    },
    {
     "data": {
      "text/markdown": [
       "Downloading https://zenodo.org/record/3714876/files/random-2000-1.bnet?download=1"
      ],
      "text/plain": [
       "<IPython.core.display.Markdown object>"
      ]
     },
     "metadata": {},
     "output_type": "display_data"
    },
    {
     "data": {
      "text/markdown": [
       "Downloading https://zenodo.org/record/3714876/files/random-2000-2.bnet?download=1"
      ],
      "text/plain": [
       "<IPython.core.display.Markdown object>"
      ]
     },
     "metadata": {},
     "output_type": "display_data"
    },
    {
     "data": {
      "text/markdown": [
       "Downloading https://zenodo.org/record/3714876/files/random-2000-3.bnet?download=1"
      ],
      "text/plain": [
       "<IPython.core.display.Markdown object>"
      ]
     },
     "metadata": {},
     "output_type": "display_data"
    },
    {
     "data": {
      "text/markdown": [
       "Downloading https://zenodo.org/record/3714876/files/random-2000-4.bnet?download=1"
      ],
      "text/plain": [
       "<IPython.core.display.Markdown object>"
      ]
     },
     "metadata": {},
     "output_type": "display_data"
    },
    {
     "data": {
      "text/markdown": [
       "Downloading https://zenodo.org/record/3714876/files/random-5000-1.bnet?download=1"
      ],
      "text/plain": [
       "<IPython.core.display.Markdown object>"
      ]
     },
     "metadata": {},
     "output_type": "display_data"
    },
    {
     "data": {
      "text/markdown": [
       "Downloading https://zenodo.org/record/3714876/files/random-5000-2.bnet?download=1"
      ],
      "text/plain": [
       "<IPython.core.display.Markdown object>"
      ]
     },
     "metadata": {},
     "output_type": "display_data"
    },
    {
     "data": {
      "text/markdown": [
       "Downloading https://zenodo.org/record/3714876/files/random-5000-3.bnet?download=1"
      ],
      "text/plain": [
       "<IPython.core.display.Markdown object>"
      ]
     },
     "metadata": {},
     "output_type": "display_data"
    },
    {
     "data": {
      "text/markdown": [
       "Downloading https://zenodo.org/record/3714876/files/random-5000-4.bnet?download=1"
      ],
      "text/plain": [
       "<IPython.core.display.Markdown object>"
      ]
     },
     "metadata": {},
     "output_type": "display_data"
    },
    {
     "data": {
      "text/markdown": [
       "Downloading https://zenodo.org/record/3714876/files/random-10000-1.bnet?download=1"
      ],
      "text/plain": [
       "<IPython.core.display.Markdown object>"
      ]
     },
     "metadata": {},
     "output_type": "display_data"
    },
    {
     "data": {
      "text/markdown": [
       "Downloading https://zenodo.org/record/3714876/files/random-10000-2.bnet?download=1"
      ],
      "text/plain": [
       "<IPython.core.display.Markdown object>"
      ]
     },
     "metadata": {},
     "output_type": "display_data"
    },
    {
     "data": {
      "text/markdown": [
       "Downloading https://zenodo.org/record/3714876/files/random-10000-3.bnet?download=1"
      ],
      "text/plain": [
       "<IPython.core.display.Markdown object>"
      ]
     },
     "metadata": {},
     "output_type": "display_data"
    },
    {
     "data": {
      "text/markdown": [
       "Downloading https://zenodo.org/record/3714876/files/random-10000-4.bnet?download=1"
      ],
      "text/plain": [
       "<IPython.core.display.Markdown object>"
      ]
     },
     "metadata": {},
     "output_type": "display_data"
    },
    {
     "data": {
      "text/markdown": [
       "Downloading https://zenodo.org/record/3714876/files/random-20000-1.bnet?download=1"
      ],
      "text/plain": [
       "<IPython.core.display.Markdown object>"
      ]
     },
     "metadata": {},
     "output_type": "display_data"
    },
    {
     "data": {
      "text/markdown": [
       "Downloading https://zenodo.org/record/3714876/files/random-20000-2.bnet?download=1"
      ],
      "text/plain": [
       "<IPython.core.display.Markdown object>"
      ]
     },
     "metadata": {},
     "output_type": "display_data"
    },
    {
     "data": {
      "text/markdown": [
       "Downloading https://zenodo.org/record/3714876/files/random-20000-3.bnet?download=1"
      ],
      "text/plain": [
       "<IPython.core.display.Markdown object>"
      ]
     },
     "metadata": {},
     "output_type": "display_data"
    },
    {
     "data": {
      "text/markdown": [
       "Downloading https://zenodo.org/record/3714876/files/random-20000-4.bnet?download=1"
      ],
      "text/plain": [
       "<IPython.core.display.Markdown object>"
      ]
     },
     "metadata": {},
     "output_type": "display_data"
    },
    {
     "data": {
      "text/markdown": [
       "Downloading https://zenodo.org/record/3714876/files/random-50000-1.bnet?download=1"
      ],
      "text/plain": [
       "<IPython.core.display.Markdown object>"
      ]
     },
     "metadata": {},
     "output_type": "display_data"
    },
    {
     "data": {
      "text/markdown": [
       "Downloading https://zenodo.org/record/3714876/files/random-50000-2.bnet?download=1"
      ],
      "text/plain": [
       "<IPython.core.display.Markdown object>"
      ]
     },
     "metadata": {},
     "output_type": "display_data"
    },
    {
     "data": {
      "text/markdown": [
       "Downloading https://zenodo.org/record/3714876/files/random-50000-3.bnet?download=1"
      ],
      "text/plain": [
       "<IPython.core.display.Markdown object>"
      ]
     },
     "metadata": {},
     "output_type": "display_data"
    },
    {
     "data": {
      "text/markdown": [
       "Downloading https://zenodo.org/record/3714876/files/random-50000-4.bnet?download=1"
      ],
      "text/plain": [
       "<IPython.core.display.Markdown object>"
      ]
     },
     "metadata": {},
     "output_type": "display_data"
    },
    {
     "data": {
      "text/markdown": [
       "Downloading https://zenodo.org/record/3714876/files/random-100000-1.bnet?download=1"
      ],
      "text/plain": [
       "<IPython.core.display.Markdown object>"
      ]
     },
     "metadata": {},
     "output_type": "display_data"
    },
    {
     "data": {
      "text/markdown": [
       "Downloading https://zenodo.org/record/3714876/files/random-100000-2.bnet?download=1"
      ],
      "text/plain": [
       "<IPython.core.display.Markdown object>"
      ]
     },
     "metadata": {},
     "output_type": "display_data"
    },
    {
     "data": {
      "text/markdown": [
       "Downloading https://zenodo.org/record/3714876/files/random-100000-3.bnet?download=1"
      ],
      "text/plain": [
       "<IPython.core.display.Markdown object>"
      ]
     },
     "metadata": {},
     "output_type": "display_data"
    },
    {
     "data": {
      "text/markdown": [
       "Downloading https://zenodo.org/record/3714876/files/random-100000-4.bnet?download=1"
      ],
      "text/plain": [
       "<IPython.core.display.Markdown object>"
      ]
     },
     "metadata": {},
     "output_type": "display_data"
    }
   ],
   "source": [
    "d = {\"a1\": [], \"a1000\": [], \"reach_a\": []}\n",
    "for filename in networks:\n",
    "        mbn = mpbn.load(f\"https://zenodo.org/record/3714876/files/{filename}?download=1\")\n",
    "        computations(mbn, d)"
   ]
  },
  {
   "cell_type": "code",
   "execution_count": 6,
   "metadata": {},
   "outputs": [
    {
     "data": {
      "image/png": "[encoded data removed]",
      "text/plain": [
       "<Figure size 864x720 with 1 Axes>"
      ]
     },
     "metadata": {
      "needs_background": "light"
     },
     "output_type": "display_data"
    }
   ],
   "source": [
    "legend ={\n",
    "    \"a1\": \"1 attractor\",\n",
    "    \"a1000\": \"attractor list (<=1000)\",\n",
    "    \"reach_a\": \"reachable attractors\",\n",
    "}\n",
    "marker = {\n",
    "    \"a1\": \"x\",\n",
    "    \"a1000\": \"x\",\n",
    "    \"reach_a\": \"*\",\n",
    "}\n",
    "plt.figure(figsize=(12,10))\n",
    "plt.rcParams.update({'font.size': 14})\n",
    "for k, v in d.items():\n",
    "    x,y = zip(*v)\n",
    "    plt.plot(x, y, linestyle='none', marker=marker[k], label=legend[k])\n",
    "plt.xscale(\"log\")\n",
    "plt.yscale(\"log\")\n",
    "plt.legend()\n",
    "plt.grid(which='both',color='0.95')\n",
    "plt.ylabel(\"computation time (s)\")\n",
    "plt.xlabel(\"number of components\")\n",
    "plt.savefig(\"generated/scalability-random.pdf\");"
   ]
  },
  {
   "cell_type": "code",
   "execution_count": null,
   "metadata": {},
   "outputs": [],
   "source": []
  }
 ],
 "metadata": {
  "kernelspec": {
   "display_name": "Python 3",
   "language": "python",
   "name": "python3"
  },
  "language_info": {
   "codemirror_mode": {
    "name": "ipython",
    "version": 3
   },
   "file_extension": ".py",
   "mimetype": "text/x-python",
   "name": "python",
   "nbconvert_exporter": "python",
   "pygments_lexer": "ipython3",
   "version": "3.7.6"
  }
 },
 "nbformat": 4,
 "nbformat_minor": 2
}
